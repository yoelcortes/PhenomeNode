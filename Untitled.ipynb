{
 "cells": [
  {
   "cell_type": "code",
   "execution_count": 1,
   "id": "6a962d2f",
   "metadata": {},
   "outputs": [
    {
     "ename": "TypeError",
     "evalue": "'Fc' is not a node",
     "output_type": "error",
     "traceback": [
      "\u001b[1;31m---------------------------------------------------------------------------\u001b[0m",
      "\u001b[1;31mTypeError\u001b[0m                                 Traceback (most recent call last)",
      "Cell \u001b[1;32mIn[1], line 4\u001b[0m\n\u001b[0;32m      2\u001b[0m phn\u001b[38;5;241m.\u001b[39mpreferences\u001b[38;5;241m.\u001b[39mlight_mode()\n\u001b[0;32m      3\u001b[0m phn\u001b[38;5;241m.\u001b[39mpreferences\u001b[38;5;241m.\u001b[39msave()\n\u001b[1;32m----> 4\u001b[0m M0 \u001b[38;5;241m=\u001b[39m phn\u001b[38;5;241m.\u001b[39mMixer()\n\u001b[0;32m      5\u001b[0m M0\u001b[38;5;241m.\u001b[39mdiagram()\n",
      "File \u001b[1;32m~\\code\\PhenomeNode\\phenomenode\\unit.py:21\u001b[0m, in \u001b[0;36mUnit.__new__\u001b[1;34m(cls, inlets, outlets, name, index, **kwargs)\u001b[0m\n\u001b[0;32m     19\u001b[0m ins \u001b[38;5;241m=\u001b[39m \u001b[38;5;28msum\u001b[39m([i\u001b[38;5;241m.\u001b[39mvarnodes \u001b[38;5;28;01mfor\u001b[39;00m i \u001b[38;5;129;01min\u001b[39;00m inlets], ())\n\u001b[0;32m     20\u001b[0m outs \u001b[38;5;241m=\u001b[39m \u001b[38;5;28msum\u001b[39m([i\u001b[38;5;241m.\u001b[39mvarnodes \u001b[38;5;28;01mfor\u001b[39;00m i \u001b[38;5;129;01min\u001b[39;00m outlets], ())\n\u001b[1;32m---> 21\u001b[0m \u001b[38;5;28mself\u001b[39m \u001b[38;5;241m=\u001b[39m \u001b[38;5;28msuper\u001b[39m()\u001b[38;5;241m.\u001b[39m\u001b[38;5;21m__new__\u001b[39m(\u001b[38;5;28mcls\u001b[39m, ins, outs, name, inlets\u001b[38;5;241m=\u001b[39minlets, outlets\u001b[38;5;241m=\u001b[39moutlets, \u001b[38;5;241m*\u001b[39m\u001b[38;5;241m*\u001b[39mkwargs)\n\u001b[0;32m     22\u001b[0m \u001b[38;5;28;01mreturn\u001b[39;00m \u001b[38;5;28mself\u001b[39m\n",
      "File \u001b[1;32m~\\code\\PhenomeNode\\phenomenode\\phenomenode.py:91\u001b[0m, in \u001b[0;36mPhenomeNode.__new__\u001b[1;34m(cls, ins, outs, name, **kwargs)\u001b[0m\n\u001b[0;32m     89\u001b[0m \u001b[38;5;28mself\u001b[39m\u001b[38;5;241m.\u001b[39mprepare(ins, outs, \u001b[38;5;241m*\u001b[39m\u001b[38;5;241m*\u001b[39mkwargs)\n\u001b[0;32m     90\u001b[0m \u001b[38;5;28mself\u001b[39m\u001b[38;5;241m.\u001b[39mregistry\u001b[38;5;241m.\u001b[39mopen_context_level()\n\u001b[1;32m---> 91\u001b[0m \u001b[38;5;28mself\u001b[39m\u001b[38;5;241m.\u001b[39mload()\n\u001b[0;32m     92\u001b[0m \u001b[38;5;28mself\u001b[39m\u001b[38;5;241m.\u001b[39mphenomena \u001b[38;5;241m=\u001b[39m \u001b[38;5;28mself\u001b[39m\u001b[38;5;241m.\u001b[39mregistry\u001b[38;5;241m.\u001b[39mclose_context_level()\n\u001b[0;32m     93\u001b[0m \u001b[38;5;28mself\u001b[39m\u001b[38;5;241m.\u001b[39mregistry\u001b[38;5;241m.\u001b[39mregister(\u001b[38;5;28mself\u001b[39m)\n",
      "File \u001b[1;32m~\\code\\PhenomeNode\\phenomenode\\units.py:24\u001b[0m, in \u001b[0;36mMixer.load\u001b[1;34m(self)\u001b[0m\n\u001b[0;32m     22\u001b[0m product \u001b[38;5;241m=\u001b[39m \u001b[38;5;28mself\u001b[39m\u001b[38;5;241m.\u001b[39moutlets[\u001b[38;5;241m0\u001b[39m]\n\u001b[0;32m     23\u001b[0m \u001b[38;5;28mself\u001b[39m\u001b[38;5;241m.\u001b[39mmin_pressure \u001b[38;5;241m=\u001b[39m phn\u001b[38;5;241m.\u001b[39mMinPressure(ins\u001b[38;5;241m=\u001b[39m[i\u001b[38;5;241m.\u001b[39mP \u001b[38;5;28;01mfor\u001b[39;00m i \u001b[38;5;129;01min\u001b[39;00m feeds], outs\u001b[38;5;241m=\u001b[39m[product\u001b[38;5;241m.\u001b[39mP])\n\u001b[1;32m---> 24\u001b[0m \u001b[38;5;28mself\u001b[39m\u001b[38;5;241m.\u001b[39mbulk_material \u001b[38;5;241m=\u001b[39m bulk_material \u001b[38;5;241m=\u001b[39m phn\u001b[38;5;241m.\u001b[39mBulkMaterial(ins\u001b[38;5;241m=\u001b[39m[i\u001b[38;5;241m.\u001b[39mFcp \u001b[38;5;28;01mfor\u001b[39;00m i \u001b[38;5;129;01min\u001b[39;00m feeds])\n\u001b[0;32m     25\u001b[0m \u001b[38;5;28mself\u001b[39m\u001b[38;5;241m.\u001b[39menthalpies \u001b[38;5;241m=\u001b[39m enthalpies \u001b[38;5;241m=\u001b[39m [phn\u001b[38;5;241m.\u001b[39mEnthalpy(ins\u001b[38;5;241m=\u001b[39mi\u001b[38;5;241m.\u001b[39mvarnodes) \u001b[38;5;28;01mfor\u001b[39;00m i \u001b[38;5;129;01min\u001b[39;00m feeds]\n\u001b[0;32m     26\u001b[0m \u001b[38;5;28mself\u001b[39m\u001b[38;5;241m.\u001b[39mbulk_enthalpy \u001b[38;5;241m=\u001b[39m bulk_enthalpy \u001b[38;5;241m=\u001b[39m phn\u001b[38;5;241m.\u001b[39mBulkEnthalpy(ins\u001b[38;5;241m=\u001b[39m[i\u001b[38;5;241m.\u001b[39mouts[\u001b[38;5;241m0\u001b[39m] \u001b[38;5;28;01mfor\u001b[39;00m i \u001b[38;5;129;01min\u001b[39;00m enthalpies])\n",
      "File \u001b[1;32m~\\code\\PhenomeNode\\phenomenode\\phenomenode.py:89\u001b[0m, in \u001b[0;36mPhenomeNode.__new__\u001b[1;34m(cls, ins, outs, name, **kwargs)\u001b[0m\n\u001b[0;32m     87\u001b[0m \u001b[38;5;28;01mdef\u001b[39;00m \u001b[38;5;21m__new__\u001b[39m(\u001b[38;5;28mcls\u001b[39m, ins\u001b[38;5;241m=\u001b[39m\u001b[38;5;28;01mNone\u001b[39;00m, outs\u001b[38;5;241m=\u001b[39m\u001b[38;5;28;01mNone\u001b[39;00m, name\u001b[38;5;241m=\u001b[39m\u001b[38;5;28;01mNone\u001b[39;00m, \u001b[38;5;241m*\u001b[39m\u001b[38;5;241m*\u001b[39mkwargs):\n\u001b[0;32m     88\u001b[0m     \u001b[38;5;28mself\u001b[39m \u001b[38;5;241m=\u001b[39m \u001b[38;5;28msuper\u001b[39m()\u001b[38;5;241m.\u001b[39m\u001b[38;5;21m__new__\u001b[39m(\u001b[38;5;28mcls\u001b[39m, name)\n\u001b[1;32m---> 89\u001b[0m     \u001b[38;5;28mself\u001b[39m\u001b[38;5;241m.\u001b[39mprepare(ins, outs, \u001b[38;5;241m*\u001b[39m\u001b[38;5;241m*\u001b[39mkwargs)\n\u001b[0;32m     90\u001b[0m     \u001b[38;5;28mself\u001b[39m\u001b[38;5;241m.\u001b[39mregistry\u001b[38;5;241m.\u001b[39mopen_context_level()\n\u001b[0;32m     91\u001b[0m     \u001b[38;5;28mself\u001b[39m\u001b[38;5;241m.\u001b[39mload()\n",
      "File \u001b[1;32m~\\code\\PhenomeNode\\phenomenode\\phenomenode.py:101\u001b[0m, in \u001b[0;36mPhenomeNode.prepare\u001b[1;34m(self, ins, outs, **kwargs)\u001b[0m\n\u001b[0;32m     99\u001b[0m \u001b[38;5;28;01mfor\u001b[39;00m i, j \u001b[38;5;129;01min\u001b[39;00m kwargs\u001b[38;5;241m.\u001b[39mitems(): \u001b[38;5;28msetattr\u001b[39m(\u001b[38;5;28mself\u001b[39m, i, j)\n\u001b[0;32m    100\u001b[0m \u001b[38;5;28mself\u001b[39m\u001b[38;5;241m.\u001b[39minit_ins(ins)\n\u001b[1;32m--> 101\u001b[0m \u001b[38;5;28mself\u001b[39m\u001b[38;5;241m.\u001b[39minit_outs(outs)\n",
      "File \u001b[1;32m~\\code\\PhenomeNode\\phenomenode\\phenomenode.py:109\u001b[0m, in \u001b[0;36mPhenomeNode.init_outs\u001b[1;34m(self, outs)\u001b[0m\n\u001b[0;32m    108\u001b[0m \u001b[38;5;28;01mdef\u001b[39;00m \u001b[38;5;21minit_outs\u001b[39m(\u001b[38;5;28mself\u001b[39m, outs):\n\u001b[1;32m--> 109\u001b[0m     \u001b[38;5;28mself\u001b[39m\u001b[38;5;241m.\u001b[39mouts \u001b[38;5;241m=\u001b[39m Outs(\n\u001b[0;32m    110\u001b[0m         \u001b[38;5;28mself\u001b[39m, default_variables(outs, \u001b[38;5;28mself\u001b[39m\u001b[38;5;241m.\u001b[39mdefault_outs)\n\u001b[0;32m    111\u001b[0m     )\n",
      "File \u001b[1;32m~\\code\\PhenomeNode\\phenomenode\\gate.py:198\u001b[0m, in \u001b[0;36mOuts.__init__\u001b[1;34m(self, source, varnodes)\u001b[0m\n\u001b[0;32m    196\u001b[0m \u001b[38;5;28;01mdef\u001b[39;00m \u001b[38;5;21m__init__\u001b[39m(\u001b[38;5;28mself\u001b[39m, source, varnodes):\n\u001b[0;32m    197\u001b[0m     \u001b[38;5;28mself\u001b[39m\u001b[38;5;241m.\u001b[39msource \u001b[38;5;241m=\u001b[39m source\n\u001b[1;32m--> 198\u001b[0m     \u001b[38;5;28msuper\u001b[39m()\u001b[38;5;241m.\u001b[39m\u001b[38;5;21m__init__\u001b[39m(varnodes)\n",
      "File \u001b[1;32m~\\code\\PhenomeNode\\phenomenode\\gate.py:40\u001b[0m, in \u001b[0;36mGate.__init__\u001b[1;34m(self, varnodes)\u001b[0m\n\u001b[0;32m     38\u001b[0m             s \u001b[38;5;241m=\u001b[39m dock(Node(i))\n\u001b[0;32m     39\u001b[0m         \u001b[38;5;28;01melse\u001b[39;00m:\n\u001b[1;32m---> 40\u001b[0m             \u001b[38;5;28;01mraise\u001b[39;00m \u001b[38;5;167;01mTypeError\u001b[39;00m(\u001b[38;5;124mf\u001b[39m\u001b[38;5;124m\"\u001b[39m\u001b[38;5;132;01m{\u001b[39;00mi\u001b[38;5;132;01m!r}\u001b[39;00m\u001b[38;5;124m is not a node\u001b[39m\u001b[38;5;124m\"\u001b[39m)\n\u001b[0;32m     41\u001b[0m         \u001b[38;5;28mself\u001b[39m\u001b[38;5;241m.\u001b[39mvarnodes\u001b[38;5;241m.\u001b[39mappend(s)\n\u001b[0;32m     42\u001b[0m \u001b[38;5;28;01melse\u001b[39;00m:\n",
      "\u001b[1;31mTypeError\u001b[0m: 'Fc' is not a node"
     ]
    }
   ],
   "source": [
    "import phenomenode as phn\n",
    "phn.preferences.light_mode()\n",
    "phn.preferences.save()\n",
    "M0 = phn.Mixer()\n",
    "M0.diagram()"
   ]
  },
  {
   "cell_type": "code",
   "execution_count": null,
   "id": "f824a0cb",
   "metadata": {},
   "outputs": [],
   "source": [
    "phn.LLEStage(T=True, P=True).diagram()"
   ]
  },
  {
   "cell_type": "code",
   "execution_count": null,
   "id": "60c9b809",
   "metadata": {},
   "outputs": [],
   "source": [
    "phn.LLEStage(Q=True, P=True).diagram()"
   ]
  },
  {
   "cell_type": "code",
   "execution_count": null,
   "id": "201f67bd",
   "metadata": {},
   "outputs": [],
   "source": []
  }
 ],
 "metadata": {
  "kernelspec": {
   "display_name": "Python 3 (ipykernel)",
   "language": "python",
   "name": "python3"
  },
  "language_info": {
   "codemirror_mode": {
    "name": "ipython",
    "version": 3
   },
   "file_extension": ".py",
   "mimetype": "text/x-python",
   "name": "python",
   "nbconvert_exporter": "python",
   "pygments_lexer": "ipython3",
   "version": "3.11.4"
  }
 },
 "nbformat": 4,
 "nbformat_minor": 5
}
