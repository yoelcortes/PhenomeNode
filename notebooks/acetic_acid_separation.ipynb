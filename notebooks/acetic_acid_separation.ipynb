{
 "cells": [
  {
   "cell_type": "markdown",
   "id": "33e7263d-47f7-41d7-9117-e7dc84770db9",
   "metadata": {},
   "source": [
    "### Aggregated"
   ]
  },
  {
   "cell_type": "code",
   "execution_count": 7,
   "id": "18774438-7c2f-4cdb-8070-83177c6b80a1",
   "metadata": {},
   "outputs": [],
   "source": [
    "import phenomenode as phn\n",
    "phn.preferences.light_mode()\n",
    "phn.preferences.save()\n",
    "M0 = phn.AggregatedStageVLE()\n",
    "M0.diagram(format='png', label_format='h', label_nodes=False, cluster=False, dpi='900', directed=False, file='AVLE')"
   ]
  },
  {
   "cell_type": "code",
   "execution_count": 8,
   "id": "11f4a3b4-f1ed-4efa-b1b7-47998b79c49b",
   "metadata": {},
   "outputs": [],
   "source": [
    "import phenomenode as phn\n",
    "phn.preferences.light_mode()\n",
    "phn.preferences.save()\n",
    "M0 = phn.AggregatedStageVLE()\n",
    "M0.diagram(format='png', label_format='h', label_nodes=False, cluster=False, dpi='900', filterkey='material-parameter', file='AVLE-MP')"
   ]
  },
  {
   "cell_type": "code",
   "execution_count": 9,
   "id": "d2f437a0-c756-4ce1-a7e2-d4d358d9b08d",
   "metadata": {},
   "outputs": [],
   "source": [
    "import phenomenode as phn\n",
    "phn.preferences.light_mode()\n",
    "phn.preferences.save()\n",
    "M0 = phn.AggregatedStageVLE()\n",
    "M0.diagram(format='png', label_format='h', label_nodes=False, cluster=False, dpi='900', filterkey='material', file='AVLE-M')"
   ]
  },
  {
   "cell_type": "code",
   "execution_count": 10,
   "id": "4ce1fb05-3c09-41b3-968b-b5e32ecc3089",
   "metadata": {},
   "outputs": [],
   "source": [
    "import phenomenode as phn\n",
    "phn.preferences.light_mode()\n",
    "phn.preferences.save()\n",
    "M0 = phn.AggregatedStageVLE()\n",
    "M0.diagram(format='png', label_format='h', label_nodes=False, cluster=False, dpi='900', filterkey='energy-parameter', file='AVLE-EP')"
   ]
  },
  {
   "cell_type": "code",
   "execution_count": 11,
   "id": "97dcfcec-4501-415d-9710-b646646a8ceb",
   "metadata": {},
   "outputs": [],
   "source": [
    "import phenomenode as phn\n",
    "phn.preferences.light_mode()\n",
    "phn.preferences.save()\n",
    "M0 = phn.AggregatedStageVLE()\n",
    "M0.diagram(format='png', label_format='h', label_nodes=False, cluster=False, dpi='900', filterkey='energy', file='AVLE-E')"
   ]
  },
  {
   "cell_type": "code",
   "execution_count": 12,
   "id": "c9d09271-3f3b-4a7b-ae76-b09887070c26",
   "metadata": {},
   "outputs": [],
   "source": [
    "import phenomenode as phn\n",
    "phn.preferences.light_mode()\n",
    "phn.preferences.save()\n",
    "M0 = phn.AggregatedStageVLE()\n",
    "M0.diagram(format='png', label_format='h', label_nodes=False, cluster=False, dpi='900', filterkey='pressure', file='AVLE-P')"
   ]
  },
  {
   "cell_type": "markdown",
   "id": "1cd60eef-9a7c-4266-96b0-69b60accaa47",
   "metadata": {},
   "source": [
    "### Singe stage"
   ]
  },
  {
   "cell_type": "code",
   "execution_count": 2,
   "id": "6a962d2f",
   "metadata": {},
   "outputs": [],
   "source": [
    "import phenomenode as phn\n",
    "phn.preferences.light_mode()\n",
    "phn.preferences.save()\n",
    "M0 = phn.StageVLE()\n",
    "M0.diagram(format='png', label_format='h', label_nodes=False, cluster=False, dpi='900', directed=False, file='VLE')"
   ]
  },
  {
   "cell_type": "code",
   "execution_count": 3,
   "id": "9a8da3a6-0432-49fb-b3ae-d73e3899ba86",
   "metadata": {},
   "outputs": [],
   "source": [
    "import phenomenode as phn\n",
    "phn.preferences.light_mode()\n",
    "phn.preferences.save()\n",
    "M0 = phn.StageVLE()\n",
    "M0.diagram(format='png', label_format='h', label_nodes=False, cluster=False, dpi='900', filterkey='material-parameter', file='VLE-MP')"
   ]
  },
  {
   "cell_type": "code",
   "execution_count": 4,
   "id": "7ab59127-ed0b-4684-bb7e-a667b2d54a8c",
   "metadata": {},
   "outputs": [],
   "source": [
    "import phenomenode as phn\n",
    "phn.preferences.light_mode()\n",
    "phn.preferences.save()\n",
    "M0 = phn.StageVLE()\n",
    "M0.diagram(format='png', label_format='h', label_nodes=False, cluster=False, dpi='900', filterkey='material', file='VLE-M')"
   ]
  },
  {
   "cell_type": "code",
   "execution_count": 5,
   "id": "88b60a13-8f05-4ff5-82c2-51965fb7a39a",
   "metadata": {},
   "outputs": [],
   "source": [
    "import phenomenode as phn\n",
    "phn.preferences.light_mode()\n",
    "phn.preferences.save()\n",
    "M0 = phn.StageVLE()\n",
    "M0.diagram(format='png', label_format='h', label_nodes=False, cluster=False, dpi='900', filterkey='energy-parameter', file='VLE-EP')"
   ]
  },
  {
   "cell_type": "code",
   "execution_count": 6,
   "id": "db1405c0-cc37-47e6-b986-ad168d1972d3",
   "metadata": {},
   "outputs": [],
   "source": [
    "import phenomenode as phn\n",
    "phn.preferences.light_mode()\n",
    "phn.preferences.save()\n",
    "M0 = phn.StageVLE()\n",
    "M0.diagram(format='png', label_format='h', label_nodes=False, cluster=False, dpi='900', filterkey='energy', file='VLE-E')"
   ]
  },
  {
   "cell_type": "code",
   "execution_count": 7,
   "id": "133f0d58-339a-4f97-9ca4-ea9dc5f67479",
   "metadata": {},
   "outputs": [],
   "source": [
    "import phenomenode as phn\n",
    "phn.preferences.light_mode()\n",
    "phn.preferences.save()\n",
    "M0 = phn.StageVLE()\n",
    "M0.diagram(format='png', label_format='h', label_nodes=False, cluster=False, dpi='900', filterkey='pressure', file='VLE-P')"
   ]
  },
  {
   "cell_type": "markdown",
   "id": "f4b37baa-4578-4f01-a4c4-b7385003fd81",
   "metadata": {},
   "source": [
    "### Many stages"
   ]
  },
  {
   "cell_type": "code",
   "execution_count": 14,
   "id": "bbc30282-24b2-436b-9e90-61ebbc9d995e",
   "metadata": {},
   "outputs": [],
   "source": [
    "import phenomenode as phn\n",
    "phn.preferences.light_mode()\n",
    "phn.preferences.save()\n",
    "M0 = phn.MultiStageVLE(n_stages=3)\n",
    "M0.diagram(format='png', label_format='h', label_nodes=False, cluster=False, dpi='900', directed=False, file='3VLE')"
   ]
  },
  {
   "cell_type": "code",
   "execution_count": null,
   "id": "1efa8994-3948-4a87-8259-156425181364",
   "metadata": {},
   "outputs": [],
   "source": []
  },
  {
   "cell_type": "code",
   "execution_count": 3,
   "id": "cf489de6",
   "metadata": {},
   "outputs": [
    {
     "name": "stderr",
     "output_type": "stream",
     "text": [
      "\r\n",
      "(process:28056): GLib-GIO-WARNING **: 16:39:02.170: Unexpectedly, UWP app `Microsoft.ScreenSketch_11.2309.16.0_x64__8wekyb3d8bbwe' (AUMId `Microsoft.ScreenSketch_8wekyb3d8bbwe!App') supports 29 extensions but has no verbs\r\n",
      "\r\n",
      "(process:28056): GLib-GIO-WARNING **: 16:39:02.221: Unexpectedly, UWP app `Clipchamp.Clipchamp_2.8.3.0_neutral__yxz26nhyzhsrt' (AUMId `Clipchamp.Clipchamp_yxz26nhyzhsrt!App') supports 41 extensions but has no verbs\r\n"
     ]
    }
   ],
   "source": [
    "import phenomenode as phn\n",
    "phn.preferences.light_mode()\n",
    "phn.preferences.save()\n",
    "M0 = phn.StageLLE()\n",
    "M0.diagram(format='png', label_format='h', label_nodes=True, cluster=False, dpi='900', file='LLE')"
   ]
  },
  {
   "cell_type": "code",
   "execution_count": null,
   "id": "ff2f305e",
   "metadata": {},
   "outputs": [],
   "source": [
    "import phenomenode as phn\n",
    "MVLE = phn.MultiStageVLE(n_stages=3)\n",
    "shapes = ('triangle', 'square', 'circle')\n",
    "for i, shape in zip(MVLE.vle_stages, shapes):\n",
    "    for j in i.phenomena:\n",
    "        j.graphics.update(shape=shape)\n",
    "MVLE.diagram(format='png', label_nodes=False, file='MVLE', cluster=False, dpi='900')"
   ]
  },
  {
   "cell_type": "code",
   "execution_count": 1,
   "id": "48130d05",
   "metadata": {
    "scrolled": true
   },
   "outputs": [
    {
     "name": "stderr",
     "output_type": "stream",
     "text": [
      "\r\n",
      "(process:17248): GLib-GIO-WARNING **: 16:29:03.029: Unexpectedly, UWP app `Microsoft.ScreenSketch_11.2309.16.0_x64__8wekyb3d8bbwe' (AUMId `Microsoft.ScreenSketch_8wekyb3d8bbwe!App') supports 29 extensions but has no verbs\r\n",
      "\r\n",
      "(process:17248): GLib-GIO-WARNING **: 16:29:03.089: Unexpectedly, UWP app `Clipchamp.Clipchamp_2.8.3.0_neutral__yxz26nhyzhsrt' (AUMId `Clipchamp.Clipchamp_yxz26nhyzhsrt!App') supports 41 extensions but has no verbs\r\n"
     ]
    }
   ],
   "source": [
    "import phenomenode as phn\n",
    "MVLE = phn.MultiStageVLE(n_stages=3)\n",
    "shapes = ('triangle', 'square', 'circle')\n",
    "for i, shape in zip(MVLE.vle_stages, shapes):\n",
    "    for j in i.phenomena:\n",
    "        j.graphics.update(shape=shape)\n",
    "MVLE.diagram(format='png', file='MVLE-M', label_nodes=False, cluster=False, filterkey=lambda x: x.category != 'material', dpi='900')\n"
   ]
  },
  {
   "cell_type": "code",
   "execution_count": 2,
   "id": "70b9ad76",
   "metadata": {
    "scrolled": true
   },
   "outputs": [
    {
     "name": "stderr",
     "output_type": "stream",
     "text": [
      "\r\n",
      "(process:25300): GLib-GIO-WARNING **: 16:29:32.336: Unexpectedly, UWP app `Microsoft.ScreenSketch_11.2309.16.0_x64__8wekyb3d8bbwe' (AUMId `Microsoft.ScreenSketch_8wekyb3d8bbwe!App') supports 29 extensions but has no verbs\r\n",
      "\r\n",
      "(process:25300): GLib-GIO-WARNING **: 16:29:32.383: Unexpectedly, UWP app `Clipchamp.Clipchamp_2.8.3.0_neutral__yxz26nhyzhsrt' (AUMId `Clipchamp.Clipchamp_yxz26nhyzhsrt!App') supports 41 extensions but has no verbs\r\n"
     ]
    }
   ],
   "source": [
    "MVLE.diagram(format='png', file='MVLE-H', label_nodes=False, cluster=False, filterkey=lambda x: x.category != 'energy', dpi='900')\n"
   ]
  },
  {
   "cell_type": "code",
   "execution_count": 3,
   "id": "52a16231",
   "metadata": {
    "scrolled": true
   },
   "outputs": [
    {
     "name": "stderr",
     "output_type": "stream",
     "text": [
      "\r\n",
      "(process:45704): GLib-GIO-WARNING **: 15:29:39.142: Unexpectedly, UWP app `Microsoft.ScreenSketch_11.2309.16.0_x64__8wekyb3d8bbwe' (AUMId `Microsoft.ScreenSketch_8wekyb3d8bbwe!App') supports 29 extensions but has no verbs\r\n",
      "\r\n",
      "(process:45704): GLib-GIO-WARNING **: 15:29:39.205: Unexpectedly, UWP app `Clipchamp.Clipchamp_2.8.3.0_neutral__yxz26nhyzhsrt' (AUMId `Clipchamp.Clipchamp_yxz26nhyzhsrt!App') supports 41 extensions but has no verbs\r\n"
     ]
    }
   ],
   "source": [
    "import phenomenode as phn\n",
    "MVLE = phn.MultiStageVLE(n_stages=3)\n",
    "shapes = ('triangle', 'square', 'circle')\n",
    "for i, shape in zip(MVLE.vle_stages, shapes):\n",
    "    for j in i.phenomena:\n",
    "        j.graphics.update(shape=shape)\n",
    "MVLE.diagram(format='png', file='MVLE-EQ', label_nodes=False, cluster=False, filterkey=lambda x: x.category != 'equilibrium', dpi='900')"
   ]
  },
  {
   "cell_type": "code",
   "execution_count": null,
   "id": "f674cc40",
   "metadata": {},
   "outputs": [],
   "source": [
    "import phenomenode as phn\n",
    "MLLE = phn.MultiStageLLE(n_stages=3)\n",
    "shapes = ('triangle', 'square', 'circle')\n",
    "for i, shape in zip(MLLE.lle_stages, shapes):\n",
    "    for j in i.phenomena:\n",
    "        j.graphics.update(shape=shape)\n",
    "MLLE.diagram(format='png', label_nodes=False, file='MLLE', cluster=False, dpi='900')"
   ]
  },
  {
   "cell_type": "code",
   "execution_count": 6,
   "id": "c3ec50cd",
   "metadata": {
    "scrolled": true
   },
   "outputs": [
    {
     "name": "stderr",
     "output_type": "stream",
     "text": [
      "\r\n",
      "(process:38604): GLib-GIO-WARNING **: 23:08:40.522: Unexpectedly, UWP app `Microsoft.ScreenSketch_11.2309.16.0_x64__8wekyb3d8bbwe' (AUMId `Microsoft.ScreenSketch_8wekyb3d8bbwe!App') supports 29 extensions but has no verbs\r\n",
      "\r\n",
      "(process:38604): GLib-GIO-WARNING **: 23:08:40.569: Unexpectedly, UWP app `Clipchamp.Clipchamp_2.8.3.0_neutral__yxz26nhyzhsrt' (AUMId `Clipchamp.Clipchamp_yxz26nhyzhsrt!App') supports 41 extensions but has no verbs\r\n"
     ]
    }
   ],
   "source": [
    "import phenomenode as phn\n",
    "MLLE = phn.MultiStageLLE(n_stages=3)\n",
    "shapes = ('triangle', 'square', 'circle')\n",
    "for i, shape in zip(MLLE.lle_stages, shapes):\n",
    "    for j in i.phenomena:\n",
    "        j.graphics.update(shape=shape)\n",
    "MLLE.diagram(format='png', file='MLLE-M', label_nodes=False, cluster=False, filterkey=lambda x: x.category != 'material', dpi='900')"
   ]
  },
  {
   "cell_type": "code",
   "execution_count": 6,
   "id": "1e4574c7",
   "metadata": {
    "scrolled": true
   },
   "outputs": [
    {
     "name": "stderr",
     "output_type": "stream",
     "text": [
      "\r\n",
      "(process:21620): GLib-GIO-WARNING **: 22:23:31.631: Unexpectedly, UWP app `Microsoft.ScreenSketch_11.2309.16.0_x64__8wekyb3d8bbwe' (AUMId `Microsoft.ScreenSketch_8wekyb3d8bbwe!App') supports 29 extensions but has no verbs\r\n",
      "\r\n",
      "(process:21620): GLib-GIO-WARNING **: 22:23:31.699: Unexpectedly, UWP app `Clipchamp.Clipchamp_2.8.3.0_neutral__yxz26nhyzhsrt' (AUMId `Clipchamp.Clipchamp_yxz26nhyzhsrt!App') supports 41 extensions but has no verbs\r\n"
     ]
    }
   ],
   "source": [
    "MLLE.diagram(format='png', file='MLLE-H', label_nodes=False, cluster=False, filterkey=lambda x: x.category != 'energy', dpi='900')\n"
   ]
  },
  {
   "cell_type": "code",
   "execution_count": 7,
   "id": "e6d4d0ba",
   "metadata": {
    "scrolled": true
   },
   "outputs": [
    {
     "name": "stderr",
     "output_type": "stream",
     "text": [
      "\r\n",
      "(process:22132): GLib-GIO-WARNING **: 22:23:59.200: Unexpectedly, UWP app `Microsoft.ScreenSketch_11.2309.16.0_x64__8wekyb3d8bbwe' (AUMId `Microsoft.ScreenSketch_8wekyb3d8bbwe!App') supports 29 extensions but has no verbs\r\n",
      "\r\n",
      "(process:22132): GLib-GIO-WARNING **: 22:23:59.263: Unexpectedly, UWP app `Clipchamp.Clipchamp_2.8.3.0_neutral__yxz26nhyzhsrt' (AUMId `Clipchamp.Clipchamp_yxz26nhyzhsrt!App') supports 41 extensions but has no verbs\r\n"
     ]
    }
   ],
   "source": [
    "MLLE.diagram(format='png', file='MLLE-EQ', label_nodes=False, cluster=False, filterkey=lambda x: x.category != 'equilibrium', dpi='900')\n"
   ]
  },
  {
   "cell_type": "code",
   "execution_count": 4,
   "id": "3774c486",
   "metadata": {},
   "outputs": [
    {
     "name": "stderr",
     "output_type": "stream",
     "text": [
      "\r\n",
      "(process:29712): GLib-GIO-WARNING **: 15:30:08.390: Unexpectedly, UWP app `Microsoft.ScreenSketch_11.2309.16.0_x64__8wekyb3d8bbwe' (AUMId `Microsoft.ScreenSketch_8wekyb3d8bbwe!App') supports 29 extensions but has no verbs\r\n",
      "\r\n",
      "(process:29712): GLib-GIO-WARNING **: 15:30:08.462: Unexpectedly, UWP app `Clipchamp.Clipchamp_2.8.3.0_neutral__yxz26nhyzhsrt' (AUMId `Clipchamp.Clipchamp_yxz26nhyzhsrt!App') supports 41 extensions but has no verbs\r\n"
     ]
    }
   ],
   "source": [
    "import phenomenode as phn\n",
    "with phn.PhenomeNode() as n:\n",
    "    feed = phn.Stream()\n",
    "    solvent = phn.Stream()\n",
    "    wastewater = phn.Stream()\n",
    "    glacial_acetate = phn.Stream()\n",
    "    d0 = phn.Stream()\n",
    "    d1 = phn.Stream()\n",
    "    recycle = phn.Stream()\n",
    "    water_rich = phn.Stream()\n",
    "    reflux = phn.Stream()\n",
    "    MLLE = phn.MultiStageLLE(n_stages=3, ins=[feed, solvent, recycle], feed_stages=[0, -1, -1]) \n",
    "    shapes = ('triangle', 'square', 'circle')\n",
    "    for i, shape in zip(MLLE.lle_stages, shapes):\n",
    "        for j in i.phenomena:\n",
    "            j.graphics.update(shape=shape)\n",
    "    LLE = phn.StageLLE(ins=[d0, d1], outs=[recycle, water_rich])\n",
    "    for i in LLE.phenomena: i.graphics.update(shape='star')\n",
    "    splitter = phn.Splitter(ins=LLE.outs[0], outs=[recycle, reflux])\n",
    "    for i in splitter.phenomena: i.graphics.update(shape='star')\n",
    "    MVLE = phn.MultiStageVLE(\n",
    "        ins=[MLLE.outs[0], reflux], outs=[d0, glacial_acetate],\n",
    "        feed_stages=[1, 0], n_stages=3, \n",
    "    ) \n",
    "    for i, shape in zip(MVLE.vle_stages, shapes):\n",
    "        for j in i.phenomena:\n",
    "            j.graphics.update(shape=shape)\n",
    "    MVLE = phn.MultiStageVLE(\n",
    "        ins=[MLLE.outs[1], water_rich], outs=[d1, wastewater],\n",
    "        feed_stages=[1, 1], n_stages=3,\n",
    "    ) \n",
    "    for i, shape in zip(MVLE.vle_stages, shapes):\n",
    "        for j in i.phenomena:\n",
    "            j.graphics.update(shape=shape)\n",
    "n.diagram(format='png', file='AA', label_nodes=False, dpi='900', cluster=False)"
   ]
  },
  {
   "cell_type": "code",
   "execution_count": 5,
   "id": "00e444d7",
   "metadata": {},
   "outputs": [
    {
     "name": "stderr",
     "output_type": "stream",
     "text": [
      "\r\n",
      "(process:28400): GLib-GIO-WARNING **: 15:34:07.179: Unexpectedly, UWP app `Microsoft.ScreenSketch_11.2309.16.0_x64__8wekyb3d8bbwe' (AUMId `Microsoft.ScreenSketch_8wekyb3d8bbwe!App') supports 29 extensions but has no verbs\r\n",
      "\r\n",
      "(process:28400): GLib-GIO-WARNING **: 15:34:07.241: Unexpectedly, UWP app `Clipchamp.Clipchamp_2.8.3.0_neutral__yxz26nhyzhsrt' (AUMId `Clipchamp.Clipchamp_yxz26nhyzhsrt!App') supports 41 extensions but has no verbs\r\n"
     ]
    }
   ],
   "source": [
    "n.diagram(format='png', file='AA-M', label_nodes=False, filterkey= lambda x: x.category != 'material', dpi='900', cluster=False)"
   ]
  },
  {
   "cell_type": "code",
   "execution_count": 6,
   "id": "3110151b",
   "metadata": {},
   "outputs": [
    {
     "name": "stderr",
     "output_type": "stream",
     "text": [
      "\r\n",
      "(process:15340): GLib-GIO-WARNING **: 15:35:53.472: Unexpectedly, UWP app `Microsoft.ScreenSketch_11.2309.16.0_x64__8wekyb3d8bbwe' (AUMId `Microsoft.ScreenSketch_8wekyb3d8bbwe!App') supports 29 extensions but has no verbs\r\n",
      "\r\n",
      "(process:15340): GLib-GIO-WARNING **: 15:35:53.536: Unexpectedly, UWP app `Clipchamp.Clipchamp_2.8.3.0_neutral__yxz26nhyzhsrt' (AUMId `Clipchamp.Clipchamp_yxz26nhyzhsrt!App') supports 41 extensions but has no verbs\r\n"
     ]
    }
   ],
   "source": [
    "n.diagram(format='png', file='AA-E', label_nodes=False, filterkey= lambda x: x.category != 'equilibrium', dpi='900', cluster=False)"
   ]
  },
  {
   "cell_type": "code",
   "execution_count": 7,
   "id": "e644d537",
   "metadata": {},
   "outputs": [
    {
     "name": "stderr",
     "output_type": "stream",
     "text": [
      "\r\n",
      "(process:30964): GLib-GIO-WARNING **: 15:36:15.656: Unexpectedly, UWP app `Microsoft.ScreenSketch_11.2309.16.0_x64__8wekyb3d8bbwe' (AUMId `Microsoft.ScreenSketch_8wekyb3d8bbwe!App') supports 29 extensions but has no verbs\r\n",
      "\r\n",
      "(process:30964): GLib-GIO-WARNING **: 15:36:15.722: Unexpectedly, UWP app `Clipchamp.Clipchamp_2.8.3.0_neutral__yxz26nhyzhsrt' (AUMId `Clipchamp.Clipchamp_yxz26nhyzhsrt!App') supports 41 extensions but has no verbs\r\n"
     ]
    }
   ],
   "source": [
    "n.diagram(format='png', file='AA-H', label_nodes=False, filterkey= lambda x: x.category != 'energy', dpi='900', cluster=False)"
   ]
  },
  {
   "cell_type": "code",
   "execution_count": null,
   "id": "1bcb3d18",
   "metadata": {},
   "outputs": [],
   "source": []
  }
 ],
 "metadata": {
  "kernelspec": {
   "display_name": "Python 3 (ipykernel)",
   "language": "python",
   "name": "python3"
  },
  "language_info": {
   "codemirror_mode": {
    "name": "ipython",
    "version": 3
   },
   "file_extension": ".py",
   "mimetype": "text/x-python",
   "name": "python",
   "nbconvert_exporter": "python",
   "pygments_lexer": "ipython3",
   "version": "3.12.4"
  }
 },
 "nbformat": 4,
 "nbformat_minor": 5
}
