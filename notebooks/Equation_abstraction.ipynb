{
 "cells": [
  {
   "cell_type": "markdown",
   "id": "a3e05127-dd04-4b48-8118-55fd85aa6e69",
   "metadata": {},
   "source": [
    "$$\n",
    "\\begin{align}\n",
    "M(y)x_M & = b_M \n",
    "C_M(y, x_E, x_M) & = 0 \n",
    "E(y)x_E & = b_E(y)\n",
    "C_E(y, x_E, x_M) & = 0\n",
    "\\end{align}\n",
    "$$"
   ]
  },
  {
   "cell_type": "code",
   "execution_count": null,
   "id": "69f08122-e31f-43b7-9c16-7fd1e16a6dc0",
   "metadata": {},
   "outputs": [],
   "source": []
  }
 ],
 "metadata": {
  "kernelspec": {
   "display_name": "Python 3 (ipykernel)",
   "language": "python",
   "name": "python3"
  },
  "language_info": {
   "codemirror_mode": {
    "name": "ipython",
    "version": 3
   },
   "file_extension": ".py",
   "mimetype": "text/x-python",
   "name": "python",
   "nbconvert_exporter": "python",
   "pygments_lexer": "ipython3",
   "version": "3.12.4"
  }
 },
 "nbformat": 4,
 "nbformat_minor": 5
}
